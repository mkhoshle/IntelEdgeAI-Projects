{
 "cells": [
  {
   "cell_type": "code",
   "execution_count": 7,
   "metadata": {},
   "outputs": [],
   "source": [
    "import tensorflow as tf \n",
    "import os\n",
    "from tensorflow.python.platform import gfile\n",
    "import numpy as np\n",
    "import time\n",
    "import cv2\n",
    "\n",
    "import matplotlib.pyplot as plt\n",
    "%matplotlib inline"
   ]
  },
  {
   "cell_type": "code",
   "execution_count": 8,
   "metadata": {},
   "outputs": [],
   "source": [
    "def draw_boxes(frame, out, width, height):\n",
    "    '''\n",
    "    Draw bounding boxes onto the frame.\n",
    "    ''' \n",
    "    num_detections = int(out[0][0])\n",
    "    \n",
    "    center_x = None \n",
    "    center_y = None \n",
    "    for i in range(num_detections): \n",
    "        score = float(out[1][0][i])\n",
    "        bbox = [float(v) for v in out[2][0][i]]\n",
    "        if score > 0.9:\n",
    "            xmin = int(bbox[1] * width)\n",
    "            ymin = int(bbox[0] * height)\n",
    "            xmax = int(bbox[3] * width)\n",
    "            ymax = int(bbox[2] * height)\n",
    "            \n",
    "            cv2.rectangle(frame, (xmin, ymin), (xmax, ymax), (0, 0, 255), 1)\n",
    "            center_x = (xmin+xmax)/2\n",
    "            center_y = (ymin+ymax)/2\n",
    "    \n",
    "    return frame, center_x, center_y"
   ]
  },
  {
   "cell_type": "code",
   "execution_count": 9,
   "metadata": {},
   "outputs": [],
   "source": [
    "input_ = 'Pedestrian_Detect_2_1_1.mp4'\n",
    "capture = cv2.VideoCapture(input_)\n",
    "capture.open(input_)\n",
    "width = int(capture.get(3))\n",
    "height = int(capture.get(4)) "
   ]
  },
  {
   "cell_type": "code",
   "execution_count": 10,
   "metadata": {},
   "outputs": [],
   "source": [
    "out = cv2.VideoWriter('out.mp4', 0x00000021, 24, (width,height))"
   ]
  },
  {
   "cell_type": "code",
   "execution_count": 11,
   "metadata": {},
   "outputs": [],
   "source": [
    "# int(capture.get(cv2.CAP_PROP_FRAME_COUNT))"
   ]
  },
  {
   "cell_type": "code",
   "execution_count": 12,
   "metadata": {},
   "outputs": [
    {
     "name": "stdout",
     "output_type": "stream",
     "text": [
      "frame in 70\n",
      "frame out 72\n",
      "frame in 188\n",
      "frame out 191\n",
      "frame in 236\n",
      "frame out 241\n",
      "frame in 438\n",
      "frame out 441\n",
      "frame in 442\n",
      "frame out 443\n",
      "frame in 512\n",
      "frame out 516\n",
      "frame in 689\n",
      "frame out 691\n",
      "frame in 759\n",
      "frame out 850\n",
      "frame in 854\n",
      "frame out 859\n",
      "frame in 860\n",
      "frame out 863\n",
      "frame in 1182\n",
      "frame out 1183\n",
      "frame in 1243\n",
      "frame out 1251\n",
      "frame in 1344\n",
      "frame out 1349\n",
      "frame in 1352\n",
      "frame out 1353\n",
      "Inference time for all frames was 187.15742993354797\n"
     ]
    }
   ],
   "source": [
    "start = time.time() \n",
    "\n",
    "path_to_pb = \"frozen_inference_graph.pb\" \n",
    "# read pb into graph_def\n",
    "with tf.gfile.FastGFile(path_to_pb, \"rb\") as f:\n",
    "    graph_def = tf.GraphDef()\n",
    "    graph_def.ParseFromString(f.read())\n",
    "    \n",
    "with tf.Session(config=tf.ConfigProto()) as sess:    \n",
    "    sess.graph.as_default()\n",
    "    tf.import_graph_def(graph_def, name='')\n",
    "    \n",
    "    current_count = 0\n",
    "    last_count = 0 \n",
    "    total_count = 0\n",
    "    center_x_old = 0            # x component of the box center\n",
    "    center_y_old = 0            # y component of the box center\n",
    "    ii = 0\n",
    "    while capture.isOpened():\n",
    "        ii += 1\n",
    "        flag, frame = capture.read()\n",
    "        if not flag:\n",
    "            break\n",
    "\n",
    "        p_frame = cv2.resize(frame, (300,300))\n",
    "        p_frame = p_frame[:, :, [2, 1, 0]]  # BGR2RGB\n",
    "        img = p_frame.reshape(1, p_frame.shape[0], p_frame.shape[1], 3)\n",
    "\n",
    "        # Create session and load graph\n",
    "        outputs = sess.run([sess.graph.get_tensor_by_name('num_detections:0'),\n",
    "                              sess.graph.get_tensor_by_name('detection_scores:0'),\n",
    "                              sess.graph.get_tensor_by_name('detection_boxes:0'),\n",
    "                              sess.graph.get_tensor_by_name('detection_classes:0')],\n",
    "                              feed_dict={'image_tensor:0': img})\n",
    "\n",
    "        out_frame, center_x,center_y = draw_boxes(frame, outputs, width, height)\n",
    "        if center_x:\n",
    "#           print(np.sqrt((center_x-center_x_old)**2+(center_y-center_y_old)**2))\n",
    "            if np.sqrt((center_x-center_x_old)**2+(center_y-center_y_old)**2)>110:\n",
    "                current_count = 1\n",
    "                center_x_old = center_x\n",
    "                center_y_old = center_y\n",
    "        else:\n",
    "            current_count = 0\n",
    "        \n",
    "        if current_count > last_count:\n",
    "            start_time = time.time()\n",
    "            total_count = total_count + current_count - last_count\n",
    "            print ('frame in', ii)\n",
    "\n",
    "        if current_count < last_count:\n",
    "            duration = int(time.time() - start_time)\n",
    "            print ('frame out', ii)\n",
    "\n",
    "        last_count = current_count    \n",
    "\n",
    "        out.write(out_frame)\n",
    "\n",
    "    out.release()\n",
    "    capture.release()\n",
    "    cv2.destroyAllWindows()\n",
    "    \n",
    "print('Inference time for all frames was',time.time()-start)"
   ]
  },
  {
   "cell_type": "code",
   "execution_count": null,
   "metadata": {},
   "outputs": [],
   "source": []
  }
 ],
 "metadata": {
  "kernelspec": {
   "display_name": "Python 3",
   "language": "python",
   "name": "python3"
  },
  "language_info": {
   "codemirror_mode": {
    "name": "ipython",
    "version": 3
   },
   "file_extension": ".py",
   "mimetype": "text/x-python",
   "name": "python",
   "nbconvert_exporter": "python",
   "pygments_lexer": "ipython3",
   "version": "3.5.5"
  }
 },
 "nbformat": 4,
 "nbformat_minor": 4
}
